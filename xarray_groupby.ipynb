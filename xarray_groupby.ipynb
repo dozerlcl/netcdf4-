{
 "metadata": {
  "language_info": {
   "codemirror_mode": {
    "name": "ipython",
    "version": 3
   },
   "file_extension": ".py",
   "mimetype": "text/x-python",
   "name": "python",
   "nbconvert_exporter": "python",
   "pygments_lexer": "ipython3",
   "version": "3.7.3-final"
  },
  "orig_nbformat": 2,
  "kernelspec": {
   "name": "python3",
   "display_name": "Python 3",
   "language": "python"
  }
 },
 "nbformat": 4,
 "nbformat_minor": 2,
 "cells": [
  {
   "cell_type": "code",
   "execution_count": 1,
   "metadata": {},
   "outputs": [],
   "source": [
    "import xarray as xr\n",
    "import numpy as np\n",
    "import pandas as pd"
   ]
  },
  {
   "cell_type": "code",
   "execution_count": 3,
   "metadata": {},
   "outputs": [
    {
     "output_type": "execute_result",
     "data": {
      "text/plain": [
       "<xarray.Dataset>\n",
       "Dimensions:  (x: 4, y: 3)\n",
       "Coordinates:\n",
       "  * x        (x) int64 10 20 30 40\n",
       "    letters  (x) <U1 'a' 'b' 'b' 'a'\n",
       "Dimensions without coordinates: y\n",
       "Data variables:\n",
       "    foo      (x, y) float64 0.3969 0.9724 0.04458 ... 0.9061 0.1237 0.8607"
      ],
      "text/html": "<pre>&lt;xarray.Dataset&gt;\nDimensions:  (x: 4, y: 3)\nCoordinates:\n  * x        (x) int64 10 20 30 40\n    letters  (x) &lt;U1 &#x27;a&#x27; &#x27;b&#x27; &#x27;b&#x27; &#x27;a&#x27;\nDimensions without coordinates: y\nData variables:\n    foo      (x, y) float64 0.3969 0.9724 0.04458 ... 0.9061 0.1237 0.8607</pre>"
     },
     "metadata": {},
     "execution_count": 3
    }
   ],
   "source": [
    "ds = xr.Dataset(\n",
    "    {\"foo\": ((\"x\", \"y\"), np.random.rand(4, 3))},\n",
    "    coords={\"x\": [10, 20, 30, 40], \"letters\": (\"x\", list(\"abba\"))},\n",
    ")\n",
    "ds"
   ]
  },
  {
   "cell_type": "code",
   "execution_count": 12,
   "metadata": {},
   "outputs": [
    {
     "output_type": "execute_result",
     "data": {
      "text/plain": [
       "{'a': [0, 3], 'b': [1, 2]}"
      ]
     },
     "metadata": {},
     "execution_count": 12
    }
   ],
   "source": [
    "ds.groupby(\"letters\").groups"
   ]
  },
  {
   "cell_type": "code",
   "execution_count": 16,
   "metadata": {},
   "outputs": [
    {
     "output_type": "execute_result",
     "data": {
      "text/plain": [
       "{12.5: [0, 1], 37.5: [2, 3]}"
      ]
     },
     "metadata": {},
     "execution_count": 16
    }
   ],
   "source": [
    "x_bins = [0, 25, 50]\n",
    "x_bins_labels = [12.5, 37.5]\n",
    "ds.groupby_bins(\"x\",x_bins, labels=x_bins_labels).groups\n"
   ]
  },
  {
   "cell_type": "code",
   "execution_count": 40,
   "metadata": {},
   "outputs": [
    {
     "output_type": "execute_result",
     "data": {
      "text/plain": [
       "<xarray.DataArray 'foo' (x: 4)>\n",
       "array([0.47127782, 0.34124476, 0.34775449, 0.6301438 ])\n",
       "Coordinates:\n",
       "  * x        (x) int64 10 20 30 40\n",
       "    letters  (x) <U1 'a' 'b' 'b' 'a'"
      ],
      "text/html": "<pre>&lt;xarray.DataArray &#x27;foo&#x27; (x: 4)&gt;\narray([0.47127782, 0.34124476, 0.34775449, 0.6301438 ])\nCoordinates:\n  * x        (x) int64 10 20 30 40\n    letters  (x) &lt;U1 &#x27;a&#x27; &#x27;b&#x27; &#x27;b&#x27; &#x27;a&#x27;</pre>"
     },
     "metadata": {},
     "execution_count": 40
    }
   ],
   "source": [
    "def standardize(x):\n",
    "    return (x - x.mean()) / x.std()\n",
    "arr = ds['foo']\n",
    "arr.groupby(\"x\").map(standardize)\n",
    "arr.groupby(\"x\").mean(dim=['y'])"
   ]
  }
 ]
}